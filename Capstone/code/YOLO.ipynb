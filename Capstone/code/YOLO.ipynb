{
 "cells": [
  {
   "cell_type": "markdown",
   "metadata": {},
   "source": [
    "<center><u><H1>YOLO -- Darkflow -- Python</H1></u></center>"
   ]
  },
  {
   "cell_type": "markdown",
   "metadata": {},
   "source": [
    "### Import Libraries"
   ]
  },
  {
   "cell_type": "code",
   "execution_count": null,
   "metadata": {},
   "outputs": [],
   "source": [
    "import os\n",
    "import cv2\n",
    "import tensorflow as tf\n",
    "from darkflow.net.build import TFNet\n",
    "from icrawler.builtin import GoogleImageCrawler"
   ]
  },
  {
   "cell_type": "markdown",
   "metadata": {},
   "source": [
    "## Download Images"
   ]
  },
  {
   "cell_type": "code",
   "execution_count": null,
   "metadata": {},
   "outputs": [],
   "source": [
    "for keyword in ['car', 'motorcycle']: # Name image classes you want to download from Google in the array\n",
    "    \n",
    "    google_crawler = GoogleImageCrawler(\n",
    "        parser_threads=2,\n",
    "        downloader_threads=4,\n",
    "        storage={'root_dir': 'images/{}'.format(keyword)}\n",
    "    \n",
    "    )\n",
    "    google_crawler.crawl(\n",
    "        keyword=keyword, max_num=200, min_size=(200, 200))"
   ]
  },
  {
   "cell_type": "markdown",
   "metadata": {},
   "source": [
    "## Rename Images"
   ]
  },
  {
   "cell_type": "code",
   "execution_count": null,
   "metadata": {},
   "outputs": [],
   "source": [
    "n = 0\n",
    "image_dir = '/train/images'\n",
    "\n",
    "for image in os.scandir(image_dir): \n",
    "    os.rename(image.path, os.path.join(image_dir, '{:01}.jpg'.format(n)))\n",
    "    n += 1"
   ]
  },
  {
   "cell_type": "markdown",
   "metadata": {},
   "source": [
    "### Configure Tensorflow "
   ]
  },
  {
   "cell_type": "code",
   "execution_count": null,
   "metadata": {},
   "outputs": [],
   "source": [
    "# Config TF, set True if using GPU\n",
    "config = tf.ConfigProto(log_device_placement = False)\n",
    "config.gpu_options.allow_growth = False "
   ]
  },
  {
   "cell_type": "markdown",
   "metadata": {},
   "source": [
    "### Train "
   ]
  },
  {
   "cell_type": "code",
   "execution_count": null,
   "metadata": {},
   "outputs": [],
   "source": [
    "with tf.Session(config=config) as sess:\n",
    "    options = {\n",
    "            'model': 'cfg/yolo_1c.cfg',\n",
    "            'load': 'bin/yolo.weights',\n",
    "            'threshold': 0.1,\n",
    "            'batch': 5,\n",
    "            'epoch': 500,\n",
    "            'train': True,\n",
    "            'annotations': 'train/annotations',\n",
    "            'dataset': 'train/images'\n",
    "            #'gpu': 1.0 # uncomment these if using GPU\n",
    "               }\n",
    "    tfnet = TFNet(options)  "
   ]
  },
  {
   "cell_type": "markdown",
   "metadata": {},
   "source": [
    "### Load Trained Model"
   ]
  },
  {
   "cell_type": "code",
   "execution_count": null,
   "metadata": {},
   "outputs": [],
   "source": [
    "with tf.Session(config=config) as sess:\n",
    "    options = {\n",
    "            'model': 'cfg/yolo_1c.cfg',\n",
    "            'load': 3500,\n",
    "            'threshold': 0.5,\n",
    "            #'gpu': 1.0 # uncomment these if using GPU\n",
    "               }\n",
    "    tfnet = TFNet(options)    "
   ]
  },
  {
   "cell_type": "markdown",
   "metadata": {},
   "source": [
    "### Test Trained Model"
   ]
  },
  {
   "cell_type": "code",
   "execution_count": null,
   "metadata": {},
   "outputs": [],
   "source": [
    "img = cv2.imread('./train/images/0024.jpg')\n",
    "img = cv2.cvtColor(img, cv2.COLOR_BGR2RGB)\n",
    "results = tfnet.return_predict(img)\n",
    "print(results)"
   ]
  },
  {
   "cell_type": "markdown",
   "metadata": {},
   "source": [
    "### Display Results"
   ]
  },
  {
   "cell_type": "code",
   "execution_count": null,
   "metadata": {},
   "outputs": [],
   "source": [
    "img = cv2.imread('./train/images/0024.jpg')\n",
    "for (i, result) in enumerate(results):\n",
    "    x = result['topleft']['x']\n",
    "    w = result['bottomright']['x']-result['topleft']['x']\n",
    "    y = result['topleft']['y']\n",
    "    h = result['bottomright']['y']-result['topleft']['y']\n",
    "    cv2.rectangle(img,(x,y),(x+w,y+h),(0,255,0),2)\n",
    "    label_position = (x + int(w/2)), abs(y - 10)\n",
    "    cv2.putText(img, result['label'], label_position , cv2.FONT_HERSHEY_SIMPLEX,0.5, (255,255,255), 2)\n",
    "\n",
    "cv2.imshow(\"YOLO\", img)\n",
    "cv2.waitKey(0)\n",
    "cv2.destroyAllWindows()"
   ]
  }
 ],
 "metadata": {
  "kernelspec": {
   "display_name": "Python 3",
   "language": "python",
   "name": "python3"
  },
  "language_info": {
   "codemirror_mode": {
    "name": "ipython",
    "version": 3
   },
   "file_extension": ".py",
   "mimetype": "text/x-python",
   "name": "python",
   "nbconvert_exporter": "python",
   "pygments_lexer": "ipython3",
   "version": "3.7.3"
  }
 },
 "nbformat": 4,
 "nbformat_minor": 2
}
